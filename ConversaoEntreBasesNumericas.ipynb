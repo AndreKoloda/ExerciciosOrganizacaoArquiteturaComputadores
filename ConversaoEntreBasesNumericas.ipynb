{
  "nbformat": 4,
  "nbformat_minor": 0,
  "metadata": {
    "colab": {
      "name": "ConversaoEntreBasesNumericas.ipynb",
      "provenance": [],
      "collapsed_sections": []
    },
    "kernelspec": {
      "name": "python3",
      "display_name": "Python 3"
    },
    "language_info": {
      "name": "python"
    }
  },
  "cells": [
    {
      "cell_type": "markdown",
      "source": [
        "```\n",
        "Algoritmo de conversão de bases\n",
        "Autor: Andre Carlos Koloda\n",
        "Irati - PR, 06-05-2022\n",
        "linkedin: https://br.linkedin.com/in/ackoloda\n",
        "Github: https://github.com/AndreKoloda\n",
        "```\n",
        "\n",
        "> Este trabalho tem como fim realizar a construção de um algoritmo para converção de valores entre bases numéricas.\n",
        "\n",
        "\n",
        "\n",
        "> Como possuimos limitações de caractéres para uso na representação dos valores, deixamos limitado a conversão entre bases 2 e 36 (limite maximo contanto para representação com algarismos de 0 a 9, e letras de A à Z).\n",
        "\n",
        "\n",
        "\n",
        "> A não ser pela falta de representatividade, não há limitações de bases para conversão de valores.\n",
        "\n",
        "\n",
        "\n",
        "\n"
      ],
      "metadata": {
        "id": "SZq_XDqGooWT"
      }
    },
    {
      "cell_type": "markdown",
      "source": [
        "\n",
        "\n",
        "> Para isso iremos seguir dois passos.\n",
        "\n",
        "\n",
        "1.   Converter o numero na base de origem para a base decimal;\n",
        "> Para isso vamos realizar a soma dos numeros multiplicados pela sua base elevado a potência da sua posição reversa, da seguinte forma:\n",
        "`123 = 1\\*base² + 2\\*base¹ + 3\\*base⁰`.\n",
        "> Por exemplo, ao converter o valor 212 na base 3 para decimal:\n",
        "\n",
        "```\n",
        "212 = 2\\*3² + 1\\*3¹ + 2\\*3⁰ = 2\\*9 + 1\\*3 + 2\\*1 = 18 + 3 + 2 = 23\n",
        "```\n",
        "\n",
        "2.   Converter o numero decimal obtido para a base de destino.\n",
        "\n",
        "\n",
        "> Obtido o valor em decima, precisamos converter o valor para a base de destino utilizando as divizões sucessivas dos restos, armazenando o valor do resto.\n",
        "\n",
        "\n",
        "> Para isso temos: \n",
        "\n",
        "```\n",
        "123 / base = valor_1 (armazena o resto na posição 1)\n",
        "valor_1 / base = valor_2 (armazena o resto na posição 2)\n",
        "...\n",
        "valor_n-1 / base = valor_n (armazena o valor_n na posição n)\n",
        "```\n",
        "> Por exemplo converter valor decimal 23 para base 3 temos:\n",
        "\n",
        "```\n",
        "23 / 3 = 7 (resto => posicao_1 = 2)\n",
        "7 / 3 = 2 (resto => posicao_2 = 1)\n",
        "2 / 3 = 0 (resto => posicao_3 = 2)\n",
        "Numero 23 decimal em base 3 equivalente é: posicao_1,posicao_2,posicao_3 = 212 \n",
        "```\n",
        "\n",
        "\n"
      ],
      "metadata": {
        "id": "aom5QWw8J11G"
      }
    },
    {
      "cell_type": "markdown",
      "source": [
        "**Conversão de bases numéricas**\n",
        "\n",
        "> O presente trabalho tem como finalidade construir um algoritmo para converter numeros entre duas bases numéricas distintas."
      ],
      "metadata": {
        "id": "u_7L7eDLJU0J"
      }
    },
    {
      "cell_type": "markdown",
      "source": [
        "> Contudo como possuimos apenas 9 numeros e 26 letras, poderemos fazer conversão entre as bases 2 e 36.\n",
        "\n",
        "> Para isso será necessário realizar uma conversão dos valores numericos em seu respectivo simbolo representativo, sendo assim criaremos um métoto para atribuir o simbolo a uma unidade de valor e também para converter o simbolo no valor que ele representa.\n"
      ],
      "metadata": {
        "id": "uiYL-asVQRMX"
      }
    },
    {
      "cell_type": "code",
      "source": [
        "def converterSimboloParaValor(valor):\n",
        "    simbolo = str(valor) #Convertido para string para poder comparar as posições\n",
        "                        #do valor para poder substituir pelo valor equivalente \n",
        "                        #com caracteres de 0 a 9.\n",
        "\n",
        "    #Será necessário armazenar cada posição em um vetor, pois convertendo f6c em\n",
        "    #numeros de 0 a 9 pode facilmente ser confundido com 15612, porém deve ser\n",
        "    #trabalhado cada conjunto separado, [15,6,12].\n",
        "    valorSaida = [] #Vetor que armazena os valores equivalentes em cada posição.\n",
        "\n",
        "    for i in range (0,len(simbolo)):\n",
        "      if simbolo[i].upper() == \"A\": valorSaida.append(10)\n",
        "      elif simbolo[i].upper() == \"B\": valorSaida.append(11)\n",
        "      elif simbolo[i].upper() == \"C\": valorSaida.append(12)\n",
        "      elif simbolo[i].upper() == \"D\": valorSaida.append(13)\n",
        "      elif simbolo[i].upper() == \"E\": valorSaida.append(14)\n",
        "      elif simbolo[i].upper() == \"F\": valorSaida.append(15)\n",
        "      elif simbolo[i].upper() == \"G\": valorSaida.append(16)\n",
        "      elif simbolo[i].upper() == \"H\": valorSaida.append(17)\n",
        "      elif simbolo[i].upper() == \"I\": valorSaida.append(18)\n",
        "      elif simbolo[i].upper() == \"J\": valorSaida.append(19)\n",
        "      elif simbolo[i].upper() ==  \"K\": valorSaida.append(20)\n",
        "      elif simbolo[i].upper() ==  \"L\": valorSaida.append(21)\n",
        "      elif simbolo[i].upper() ==  \"M\": valorSaida.append(22)\n",
        "      elif simbolo[i].upper() ==  \"N\": valorSaida.append(23)\n",
        "      elif simbolo[i].upper() ==  \"O\": valorSaida.append(24)\n",
        "      elif simbolo[i].upper() ==  \"P\": valorSaida.append(25)\n",
        "      elif simbolo[i].upper() ==  \"Q\": valorSaida.append(26)\n",
        "      elif simbolo[i].upper() ==  \"R\": valorSaida.append(27)\n",
        "      elif simbolo[i].upper() ==  \"S\": valorSaida.append(28)\n",
        "      elif simbolo[i].upper() ==  \"T\": valorSaida.append(29)\n",
        "      elif simbolo[i].upper() ==  \"U\": valorSaida.append(30)\n",
        "      elif simbolo[i].upper() ==  \"V\": valorSaida.append(31)\n",
        "      elif simbolo[i].upper() ==  \"W\": valorSaida.append(32)\n",
        "      elif simbolo[i].upper() ==  \"X\": valorSaida.append(33)\n",
        "      elif simbolo[i].upper() ==  \"Y\": valorSaida.append(34)\n",
        "      elif simbolo[i].upper() ==  \"Z\": valorSaida.append(35)\n",
        "      else: valorSaida.append(int(simbolo[i]))\n",
        "    return valorSaida\n",
        "\n",
        "#Utilizando o valor no formato de vetor, converte novamente para simbolos equivalentes\n",
        "def converterValorParaSimbolo(valor):\n",
        "  valorSaida = \"\"; #Utilizado para atribuir a string de saída com o valor convertido\n",
        "  \n",
        "  for i in range(len(valor)-1,-1,-1):\n",
        "    if valor[i] == 10: valorSaida += \"A\"\n",
        "    elif valor[i] == 11: valorSaida += \"B\"\n",
        "    elif valor[i] == 12: valorSaida += \"C\"\n",
        "    elif valor[i] == 13: valorSaida += \"D\"\n",
        "    elif valor[i] == 14: valorSaida += \"E\"\n",
        "    elif valor[i] == 15: valorSaida += \"F\"\n",
        "    elif valor[i] == 16: valorSaida += \"G\"\n",
        "    elif valor[i] == 17: valorSaida += \"H\"\n",
        "    elif valor[i] == 18: valorSaida += \"I\"\n",
        "    elif valor[i] == 19: valorSaida += \"J\"\n",
        "    elif valor[i] == 20: valorSaida += \"K\"\n",
        "    elif valor[i] == 21: valorSaida += \"L\"\n",
        "    elif valor[i] == 22: valorSaida += \"M\"\n",
        "    elif valor[i] == 23: valorSaida += \"N\"\n",
        "    elif valor[i] == 24: valorSaida += \"O\"\n",
        "    elif valor[i] == 25: valorSaida += \"P\"\n",
        "    elif valor[i] == 26: valorSaida += \"Q\"\n",
        "    elif valor[i] == 27: valorSaida += \"R\"\n",
        "    elif valor[i] == 28: valorSaida += \"S\"\n",
        "    elif valor[i] == 29: valorSaida += \"T\"\n",
        "    elif valor[i] == 30: valorSaida += \"U\"\n",
        "    elif valor[i] == 31: valorSaida += \"V\"\n",
        "    elif valor[i] == 32: valorSaida += \"W\"\n",
        "    elif valor[i] == 33: valorSaida += \"X\"\n",
        "    elif valor[i] == 34: valorSaida += \"Y\"\n",
        "    elif valor[i] == 35: valorSaida += \"z\"\n",
        "    else: valorSaida += str(valor[i])\n",
        "  return valorSaida"
      ],
      "metadata": {
        "id": "UOITiGPuRDUm"
      },
      "execution_count": 64,
      "outputs": []
    },
    {
      "cell_type": "markdown",
      "source": [
        "> Agora que já possuimos a conversão de valores para simbolos e de simbolos para valores de 0 a 9 correspondentes podemos programar nossos dois métodos para a conversão de valores.\n",
        "\n",
        "\n",
        "\n",
        "> Por questão de organização do fluxo criamos um método principal ConverterBase, o qual controla a chamada dos outros metodos."
      ],
      "metadata": {
        "id": "sMLKfeg-VLFA"
      }
    },
    {
      "cell_type": "code",
      "source": [
        "#Recebemos o valor em formato de string e a base origem e destino no formato de inteiro.\n",
        "def converterBase(valor,baseOrigem,baseDestino):\n",
        "  #Conversao do valor simbólico para vetor com algarismos de 0 a 9 correspondentes.\n",
        "  valorBaseOrigem = converterSimboloParaValor(valor)\n",
        "\n",
        "  #Chamada do método para converter o valor da base de origem para decimal\n",
        "  valorDecimal = converterParaDecimal(valorBaseOrigem,baseOrigem)\n",
        "\n",
        "  #Conversao do decimal obtido anteriormente para a base de destino\n",
        "  valorConvertido = converterDecimalBaseDestino(valorDecimal,baseDestino)\n",
        "\n",
        "  #Conversao do vetor resultante em uma string de simbolos equivalentes\n",
        "  valorFinal = converterValorParaSimbolo(valorConvertido)\n",
        "  return valorFinal\n",
        "\n",
        "def converterParaDecimal(valorBaseOrigem,baseOrigem):\n",
        "  quantidadeCaracteres = len(valorBaseOrigem)\n",
        "  valorConvertido = 0;\n",
        "\n",
        "  for i in range(0,quantidadeCaracteres):\n",
        "    #Soma dos produtos da casa numérica pela sua base elevada a \n",
        "    #sua posição reversa\n",
        "\n",
        "    valorConvertido += valorBaseOrigem[i]*(baseOrigem**(quantidadeCaracteres - i -1))\n",
        "    \n",
        "  return valorConvertido\n",
        "\n",
        "def converterDecimalBaseDestino(valor,baseDestino):\n",
        "  valorConvertido = [] #Atribuição em vetor para conversão em simbolo posteriormente\n",
        "  quociente = valor #Atribuição inicial para comparação das divisões\n",
        "\n",
        "  while quociente > 0:\n",
        "    resto = quociente % baseDestino\n",
        "    quociente = quociente // baseDestino #Divisão inteira\n",
        "    valorConvertido.append(resto)\n",
        "    \n",
        "  return valorConvertido"
      ],
      "metadata": {
        "id": "onjlDXTyVLmh"
      },
      "execution_count": 67,
      "outputs": []
    },
    {
      "cell_type": "code",
      "source": [
        "valorOriginal = \"AndreKoloda\"\n",
        "#Utilize bases entre 2 e 36, devido a limitação de caracteres representativos.\n",
        "baseOrigem = 36\n",
        "baseDestino = 4\n",
        "\n",
        "valorConvertido = converterBase(valorOriginal, baseOrigem, baseDestino)\n",
        "\n",
        "print(\"valor convertido: \", valorOriginal)\n",
        "print(\"Base Origem: \", baseOrigem)\n",
        "print(\"Base Destino: \", baseDestino)\n",
        "print(\"Valor resultante: \",valorConvertido)"
      ],
      "metadata": {
        "colab": {
          "base_uri": "https://localhost:8080/"
        },
        "id": "ATpG8aXflawe",
        "outputId": "1f54e619-8788-4fa5-d4c7-c09841e4aeb8"
      },
      "execution_count": 69,
      "outputs": [
        {
          "output_type": "stream",
          "name": "stdout",
          "text": [
            "valor convertido:  AndreKoloda\n",
            "Base Origem:  36\n",
            "Base Destino:  4\n",
            "Valor resultante:  2022111011201203211333122132\n"
          ]
        }
      ]
    }
  ]
}